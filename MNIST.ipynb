{
 "cells": [
  {
   "cell_type": "code",
   "execution_count": 2,
   "metadata": {},
   "outputs": [
    {
     "name": "stdout",
     "output_type": "stream",
     "text": [
      "Extracting MNIST_data/train-images-idx3-ubyte.gz\n",
      "Extracting MNIST_data/train-labels-idx1-ubyte.gz\n",
      "Extracting MNIST_data/t10k-images-idx3-ubyte.gz\n",
      "Extracting MNIST_data/t10k-labels-idx1-ubyte.gz\n"
     ]
    }
   ],
   "source": [
    "from tensorflow.examples.tutorials.mnist import input_data\n",
    "mnist = input_data.read_data_sets('MNIST_data', one_hot=True)\n",
    "import matplotlib.pyplot as plt\n",
    "import numpy as np\n",
    "import random as ran\n",
    "import tensorflow as tf\n",
    "\n",
    "\n",
    "\n"
   ]
  },
  {
   "cell_type": "code",
   "execution_count": 66,
   "metadata": {},
   "outputs": [],
   "source": [
    "def TRAIN_SIZE(num):\n",
    "    print ('Total Training Images in Dataset = ' + str(mnist.train.images.shape))\n",
    "    print ('--------------------------------------------------')\n",
    "    x_train = mnist.train.images[:num,:]\n",
    "    print ('x_train Examples Loaded = ' + str(x_train.shape))\n",
    "    y_train = mnist.train.labels[:num,:]\n",
    "    print ('y_train Examples Loaded = ' + str(y_train.shape))\n",
    "    print('')\n",
    "    return x_train, y_train\n",
    "\n",
    "def TEST_SIZE(num):\n",
    "    print ('Total Test Examples in Dataset = ' + str(mnist.test.images.shape))\n",
    "    print ('--------------------------------------------------')\n",
    "    x_test = mnist.test.images[:num,:]\n",
    "    print ('x_test Examples Loaded = ' + str(x_test.shape))\n",
    "    y_test = mnist.test.labels[:num,:]\n",
    "    print ('y_test Examples Loaded = ' + str(y_test.shape))\n",
    "    return x_test, y_test\n",
    "\n",
    "\n",
    "def display_digit(num):\n",
    "    print(y_train[num])\n",
    "    label = y_train[num].argmax(axis=0)\n",
    "    image = x_train[num].reshape([28,28])\n",
    "    plt.title('Example: %d  Label: %d' % (num, label))\n",
    "    plt.imshow(image, cmap=plt.get_cmap('gray_r'))\n",
    "    plt.show()\n",
    "\n",
    "def display_mult_flat(start, stop):\n",
    "    images = x_train[start].reshape([1,784])\n",
    "    for i in range(start+1,stop):\n",
    "        images = np.concatenate((images, x_train[i].reshape([1,784])))\n",
    "    plt.imshow(images, cmap=plt.get_cmap('gray_r'))\n",
    "    plt.show()\n",
    "    \n",
    "def mergeImage(image1, image2):\n",
    "    newImage = []\n",
    "    for i1, i2 in zip(image1,image2):\n",
    "        newImage.append(np.concatenate((i1, i2), axis=None))\n",
    "#         print(\"Conc: \",i1 + i2)\n",
    "#         print(\"i1: \", i1)\n",
    "#         print(\"i2: \", i2)\n",
    "        i1\n",
    "    return newImage"
   ]
  },
  {
   "cell_type": "code",
   "execution_count": 68,
   "metadata": {},
   "outputs": [
    {
     "ename": "AttributeError",
     "evalue": "'list' object has no attribute 'reshape'",
     "output_type": "error",
     "traceback": [
      "\u001b[0;31m---------------------------------------------------------------------------\u001b[0m",
      "\u001b[0;31mAttributeError\u001b[0m                            Traceback (most recent call last)",
      "\u001b[0;32m<ipython-input-68-91a696f718a5>\u001b[0m in \u001b[0;36m<module>\u001b[0;34m()\u001b[0m\n\u001b[1;32m      5\u001b[0m \u001b[0mnum3\u001b[0m\u001b[0;34m=\u001b[0m \u001b[0mmergeImage\u001b[0m\u001b[0;34m(\u001b[0m\u001b[0mnum\u001b[0m\u001b[0;34m,\u001b[0m \u001b[0mnum2\u001b[0m\u001b[0;34m)\u001b[0m\u001b[0;34m\u001b[0m\u001b[0m\n\u001b[1;32m      6\u001b[0m \u001b[0;31m# num3 = np.array(num3)\u001b[0m\u001b[0;34m\u001b[0m\u001b[0;34m\u001b[0m\u001b[0m\n\u001b[0;32m----> 7\u001b[0;31m \u001b[0mnum3\u001b[0m \u001b[0;34m=\u001b[0m \u001b[0mnum3\u001b[0m\u001b[0;34m.\u001b[0m\u001b[0mreshape\u001b[0m\u001b[0;34m(\u001b[0m\u001b[0;34m[\u001b[0m\u001b[0;36m28\u001b[0m\u001b[0;34m,\u001b[0m\u001b[0;36m56\u001b[0m\u001b[0;34m]\u001b[0m\u001b[0;34m)\u001b[0m\u001b[0;34m\u001b[0m\u001b[0m\n\u001b[0m\u001b[1;32m      8\u001b[0m \u001b[0;34m\u001b[0m\u001b[0m\n\u001b[1;32m      9\u001b[0m \u001b[0;31m# plt.imshow(num3, cmap=plt.get_cmap('gray_r'))\u001b[0m\u001b[0;34m\u001b[0m\u001b[0;34m\u001b[0m\u001b[0m\n",
      "\u001b[0;31mAttributeError\u001b[0m: 'list' object has no attribute 'reshape'"
     ]
    }
   ],
   "source": [
    "#Reshaping each example to 28x28\n",
    "num = x_train[1].reshape([28,28])\n",
    "num2 = x_train[2].reshape([28,28])\n",
    "\n",
    "num3= mergeImage(num, num2)\n",
    "# num3 = np.array(num3)\n",
    "num3 = num3.reshape([28,56])\n",
    "\n",
    "# plt.imshow(num3, cmap=plt.get_cmap('gray_r'))"
   ]
  },
  {
   "cell_type": "code",
   "execution_count": 55,
   "metadata": {},
   "outputs": [
    {
     "data": {
      "text/plain": [
       "<matplotlib.image.AxesImage at 0x7fbbbaf50518>"
      ]
     },
     "execution_count": 55,
     "metadata": {},
     "output_type": "execute_result"
    },
    {
     "data": {
      "image/png": "[encoded data removed]",
      "text/plain": [
       "<matplotlib.figure.Figure at 0x7fbbc15d6f60>"
      ]
     },
     "metadata": {},
     "output_type": "display_data"
    }
   ],
   "source": [
    "shiftNum = x_train[1].reshape([28,28])\n",
    "\n",
    "shiftNum = np.roll(shiftNum, 3, axis=1)\n",
    "plt.imshow(shiftNum, cmap=plt.get_cmap('gray_r'))"
   ]
  },
  {
   "cell_type": "code",
   "execution_count": 4,
   "metadata": {},
   "outputs": [
    {
     "name": "stdout",
     "output_type": "stream",
     "text": [
      "Total Training Images in Dataset = (55000, 784)\n",
      "--------------------------------------------------\n",
      "x_train Examples Loaded = (55000, 784)\n",
      "y_train Examples Loaded = (55000, 10)\n",
      "\n"
     ]
    }
   ],
   "source": [
    "x_train, y_train = TRAIN_SIZE(55000)                  #Loading Data\n",
    "sess = tf.Session()                         #Creatign new session\n",
    "\n",
    "\n",
    "#Placeholder to feed the data into \n",
    "x = tf.placeholder(tf.float32, shape=[None, 784])\n",
    "y_ = tf.placeholder(tf.float32, shape=[None, 10])\n",
    "\n",
    "#Weights and bias for layer 1\n",
    "W1 = tf.Variable(tf.truncated_normal([784,400],mean=0,stddev=0.05))             # W = 784 x 10 (784 rows 10 columns)\n",
    "b1 = tf.Variable(tf.zeros([400]))\n",
    "a1 = tf.nn.relu((tf.matmul(x,W1) + b1),  name='activationLayer1')                 #Softmax makes it so gradient isnt a  step function\n",
    "\n",
    "#Layer 2 Weights and bias\n",
    "W2 = tf.Variable(tf.random_normal([400,200],mean=0,stddev=0.05))\n",
    "b2 = tf.Variable(tf.zeros([200]))\n",
    "a2 = tf.nn.relu((tf.matmul(a1,W2)+b2),name='activationLayer2')\n",
    "\n",
    "# #Layer 3\n",
    "# W3 = tf.Variable(tf.random_normal([200,100],mean=0,stddev=0.05))\n",
    "# b3 = tf.Variable(tf.zeros([100]))\n",
    "# a3 = tf.nn.relu((tf.matmul(a2, W3) + b3), name = 'Layer3')\n",
    "\n",
    "#Output layer weights and bias \n",
    "W4 = tf.Variable(tf.random_normal([200,10],mean=0,stddev=0.05))\n",
    "b4 = tf.Variable(tf.zeros([10]))\n",
    "y = tf.nn.softmax((tf.matmul(a2, W4) + b4), name = 'output')\n",
    "\n"
   ]
  },
  {
   "cell_type": "code",
   "execution_count": 5,
   "metadata": {},
   "outputs": [],
   "source": [
    "#Setting up Loss function\n",
    "cross_entropy = tf.reduce_mean(-tf.reduce_sum(y_ * tf.log(y), reduction_indices=[1]))"
   ]
  },
  {
   "cell_type": "code",
   "execution_count": 6,
   "metadata": {},
   "outputs": [
    {
     "name": "stdout",
     "output_type": "stream",
     "text": [
      "Total Training Images in Dataset = (55000, 784)\n",
      "--------------------------------------------------\n",
      "x_train Examples Loaded = (55000, 784)\n",
      "y_train Examples Loaded = (55000, 10)\n",
      "\n",
      "Total Test Examples in Dataset = (10000, 784)\n",
      "--------------------------------------------------\n",
      "x_test Examples Loaded = (1000, 784)\n",
      "y_test Examples Loaded = (1000, 10)\n"
     ]
    },
    {
     "data": {
      "text/plain": [
       "55000"
      ]
     },
     "execution_count": 6,
     "metadata": {},
     "output_type": "execute_result"
    }
   ],
   "source": [
    "x_train, y_train = TRAIN_SIZE(55000)\n",
    "x_test, y_test = TEST_SIZE(1000)\n",
    "LEARNING_RATE = 0.3\n",
    "TRAIN_STEPS = 200           #same thing as epoch\n",
    "\n",
    "len(x_train)\n"
   ]
  },
  {
   "cell_type": "code",
   "execution_count": 7,
   "metadata": {},
   "outputs": [],
   "source": [
    "#Setting up Optimizer\n",
    "training = tf.train.AdamOptimizer().minimize(cross_entropy)    #Running gradient descent\n",
    "correct_prediction = tf.equal(tf.argmax(y,1), tf.argmax(y_,1))                         #Check prediction with actual value\n",
    "accuracy = tf.reduce_mean(tf.cast(correct_prediction, tf.float32))                     #See your accuracy"
   ]
  },
  {
   "cell_type": "code",
   "execution_count": 8,
   "metadata": {},
   "outputs": [
    {
     "name": "stdout",
     "output_type": "stream",
     "text": [
      "Training Step:0  Accuracy =  0.36  Loss = 2.17679\n",
      "Training Step:100  Accuracy =  0.958  Loss = 0.104304\n",
      "Training Step:200  Accuracy =  0.979  Loss = 0.0266314\n"
     ]
    }
   ],
   "source": [
    "#Run the gradient descent multiple times to find right minima\n",
    "init = tf.global_variables_initializer()\n",
    "sess.run(init)\n",
    "batch = 500\n",
    "for i in range(TRAIN_STEPS+1):\n",
    "#     for j in range(len(x_train)):\n",
    "#         start = j\n",
    "#         end = j+batch\n",
    "        \n",
    "#         x_batch = x_train[start:end]\n",
    "#         y_batch = y_train[start:end]\n",
    "        \n",
    "    sess.run(training, feed_dict={x: x_train, y_: y_train})    #Running gradient descent\n",
    "#         j +=batch\n",
    "#         print(j)\n",
    "    if i%100 == 0:\n",
    "        print('Training Step:' + str(i) + '  Accuracy =  ' + str(sess.run(accuracy, feed_dict={x: x_test, y_: y_test})) + '  Loss = ' + str(sess.run(cross_entropy, {x: x_train, y_: y_train})))"
   ]
  },
  {
   "cell_type": "code",
   "execution_count": 9,
   "metadata": {},
   "outputs": [
    {
     "name": "stdout",
     "output_type": "stream",
     "text": [
      "[[-0.03589871  0.03331175 -0.04501198 ..., -0.01286113  0.0212121\n",
      "  -0.05767336]\n",
      " [-0.09980341 -0.01979881 -0.0563818  ...,  0.04496438 -0.08127421\n",
      "  -0.0146857 ]\n",
      " [-0.05978919  0.07307463  0.02633315 ...,  0.02010152 -0.00546366\n",
      "   0.02383367]\n",
      " ..., \n",
      " [-0.08793899 -0.03516058  0.01386218 ...,  0.00272071 -0.09279147\n",
      "   0.09783088]\n",
      " [-0.04808396 -0.06513688  0.09350821 ...,  0.03142276 -0.02107956\n",
      "  -0.04664012]\n",
      " [-0.06306105 -0.00533128 -0.02573358 ...,  0.008701    0.03670347\n",
      "   0.01660397]]\n",
      "[[-0.07793642  0.03386941 -0.1133942  ...,  0.07245082 -0.0086886\n",
      "   0.03883033]\n",
      " [ 0.00668807 -0.05628867 -0.01425789 ...,  0.02750241  0.03727752\n",
      "   0.06879383]\n",
      " [-0.03607887 -0.06556796 -0.00439632 ...,  0.05940193  0.000828\n",
      "  -0.04896758]\n",
      " ..., \n",
      " [-0.05710496 -0.03797853 -0.00045059 ...,  0.10723866 -0.05312402\n",
      "   0.0224669 ]\n",
      " [ 0.07514062 -0.03122273 -0.03478551 ..., -0.02459484 -0.0657669\n",
      "  -0.05696115]\n",
      " [ 0.05317928 -0.09416101 -0.06456596 ...,  0.02840606  0.00095357\n",
      "  -0.10643485]]\n",
      "[[-0.1459572   0.02252923  0.129512   ...,  0.1122676   0.01756443\n",
      "  -0.09592686]\n",
      " [-0.01013766 -0.09236063  0.09588531 ...,  0.1048397   0.05314917\n",
      "  -0.03762092]\n",
      " [-0.01534673  0.04770048  0.05970647 ...,  0.07292823 -0.04969887\n",
      "   0.0885755 ]\n",
      " ..., \n",
      " [ 0.012066   -0.06505179  0.10771186 ..., -0.02111961  0.11743795\n",
      "  -0.01316689]\n",
      " [ 0.03179032 -0.01877967  0.03255082 ...,  0.03753041  0.14527239\n",
      "  -0.102484  ]\n",
      " [-0.13850023  0.06093788  0.02798006 ..., -0.06987418 -0.0399414\n",
      "   0.07147229]]\n"
     ]
    }
   ],
   "source": [
    "weights = sess.run(W1)\n",
    "print(weights)\n",
    "np.savetxt(\"weights_1.txt\", weights)\n",
    "weights = sess.run(W2)\n",
    "print(weights)\n",
    "np.savetxt(\"weights_2.txt\", weights)\n",
    "weights = sess.run(W4)\n",
    "print(weights)\n",
    "np.savetxt(\"weights_3.txt\", weights)\n",
    "np.savetxt(\"x_test.txt\", x_test)\n",
    "np.savetxt(\"y_test.txt\", y_test)"
   ]
  },
  {
   "cell_type": "code",
   "execution_count": 10,
   "metadata": {},
   "outputs": [],
   "source": [
    "np.savetxt(\"x_test.txt\", x_test)\n",
    "np.savetxt(\"y_test.txt\", y_test)"
   ]
  },
  {
   "cell_type": "code",
   "execution_count": 28,
   "metadata": {},
   "outputs": [
    {
     "name": "stdout",
     "output_type": "stream",
     "text": [
      "[ 0.  0.  0.  1.  0.  0.  0.  0.  0.  0.]\n"
     ]
    },
    {
     "data": {
      "image/png": "[encoded data removed]",
      "text/plain": [
       "<matplotlib.figure.Figure at 0x7fbbc4698518>"
      ]
     },
     "metadata": {},
     "output_type": "display_data"
    },
    {
     "name": "stdout",
     "output_type": "stream",
     "text": [
      "55000\n"
     ]
    }
   ],
   "source": [
    "display_digit(ran.randint(0, x_train.shape[0]))\n",
    "print(x_train.shape[0])"
   ]
  }
 ],
 "metadata": {
  "kernelspec": {
   "display_name": "Python 3",
   "language": "python",
   "name": "python3"
  },
  "language_info": {
   "codemirror_mode": {
    "name": "ipython",
    "version": 3
   },
   "file_extension": ".py",
   "mimetype": "text/x-python",
   "name": "python",
   "nbconvert_exporter": "python",
   "pygments_lexer": "ipython3",
   "version": "3.6.3"
  }
 },
 "nbformat": 4,
 "nbformat_minor": 2
}
